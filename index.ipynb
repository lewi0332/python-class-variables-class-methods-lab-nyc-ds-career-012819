{
 "cells": [
  {
   "cell_type": "markdown",
   "metadata": {},
   "source": [
    "# Python Class Variables and Class Methods Lab"
   ]
  },
  {
   "cell_type": "markdown",
   "metadata": {},
   "source": [
    "## Introduction\n",
    "In this lab, we are going to put our skills to the test by creating class methods and class variables that will help our program remember instance objects and allow us to operate on these objects in interesting ways. We will be working with a Driver class, which we can define in our file, `driver.py`."
   ]
  },
  {
   "cell_type": "markdown",
   "metadata": {},
   "source": [
    "## Objectives\n",
    "* Use class variables to keep track of data pertaining to a class\n",
    "* Define class methods that expose data pertaining to a class"
   ]
  },
  {
   "cell_type": "markdown",
   "metadata": {},
   "source": [
    "## Instructions"
   ]
  },
  {
   "cell_type": "markdown",
   "metadata": {},
   "source": [
    "Okay, so, we have a fleet of drivers and we want to be able to make queries to get details about all of these drivers. Our Driver class should have two class variables; `_all` and `_count`. The `_all` class variable should be assigned to a list that keeps track of all instance objects for the Driver class. The `_count` class variable should keep track of the number of drivers in our fleet. Initially, we wont have any drivers, so it should be set to `0`."
   ]
  },
  {
   "cell_type": "markdown",
   "metadata": {},
   "source": [
    "> **Note:** remember to re-load code from another file, we need to re-run the cell that imports it in our jupyter notebook\n"
   ]
  },
  {
   "cell_type": "code",
   "execution_count": 200,
   "metadata": {},
   "outputs": [],
   "source": [
    "class Driver:\n",
    "    \n",
    "    _all = []\n",
    "    _count = 0 \n",
    "    \n",
    "    def __init__(self, name, car_make, car_model):\n",
    "        self._name = name\n",
    "        self._car_make = car_make\n",
    "        self._car_model = car_model\n",
    "        Driver._all.append(self)\n",
    "        Driver._count += 1\n",
    "    \n",
    "    @property\n",
    "    def name(self):\n",
    "        return self._name\n",
    "    \n",
    "    @property\n",
    "    def car_make(self):\n",
    "        return self._car_make\n",
    "    \n",
    "    @property\n",
    "    def car_model(self):\n",
    "        return self._car_model\n",
    "    \n",
    "\n",
    "    @classmethod\n",
    "    def fleet_size(cls):\n",
    "        return cls._count\n",
    "    \n",
    "    @classmethod\n",
    "    def driver_names(cls):\n",
    "        driver_names = []\n",
    "        for driver in cls._all:\n",
    "            driver_names.append(driver.name)\n",
    "        return driver_names\n",
    "    \n",
    "    @classmethod\n",
    "    def fleet_makes(cls):\n",
    "        car_makes = []\n",
    "        for car_make in cls._all:\n",
    "            car_makes.append(car_make.car_make)\n",
    "        return car_makes\n",
    "    \n",
    "    @classmethod\n",
    "    def fleet_models(cls):\n",
    "        car_models = []\n",
    "        for car_model in cls._all:\n",
    "            car_models.append(car_model.car_model)\n",
    "        return car_models\n",
    "    \n",
    "    @classmethod\n",
    "    def fleet_makes_count(cls):\n",
    "        i = cls.fleet_makes()\n",
    "        d = {x:i.count(x) for x in i}\n",
    "        return d\n",
    "    \n",
    "    @classmethod\n",
    "    def fleet_models_count(cls):\n",
    "        models_list = cls.fleet_models()\n",
    "        models_count = {x:models_list.count(x) for x in models_list}\n",
    "        return models_count\n",
    "    \n",
    "    @classmethod\n",
    "    def percent_of_fleet(cls, car_make):\n",
    "        fleet = cls.fleet_makes()\n",
    "        fleet_count = len(fleet)\n",
    "        makes_count = cls.fleet_makes_count()\n",
    "        num = float((makes_count[car_make]/fleet_count)*100)\n",
    "        num_string = str(num)\n",
    "        percent = num_string + \"%\"\n",
    "        return percent\n",
    "    "
   ]
  },
  {
   "cell_type": "markdown",
   "metadata": {},
   "source": [
    "We want our drivers to have the following attributes; `name`, `car_make`, and `car_model`. Again, by convention these attributes should have a leading underscore and be snakecased where appropriate. We will also want to define instance methods using the appropriate decorator to read (get) all of these attributes."
   ]
  },
  {
   "cell_type": "code",
   "execution_count": 201,
   "metadata": {},
   "outputs": [
    {
     "data": {
      "text/plain": [
       "<__main__.Driver at 0x7fc9dc087a20>"
      ]
     },
     "execution_count": 201,
     "metadata": {},
     "output_type": "execute_result"
    }
   ],
   "source": [
    "Driver(\"Helga Pataki\", \"Toyota\", \"Camry\")\n",
    "Driver(\"Arnold Shortman\", \"Toyota\", \"Highlander\")\n",
    "Driver(\"Gerald Johanssen\", \"Toyota\", \"Camry\")\n",
    "Driver(\"Robert 'Big Bob' Pataki\", \"Honda\", \"Pilot\")\n",
    "Driver(\"Grandpa Phil\", \"Jeep\", \"Grand Cherokee\")\n",
    "Driver(\"Rhonda Wellington Lloyd\", \"Kia\", \"Sonata\")\n",
    "Driver(\"Phoebe Heyerdahl\", \"Honda\", \"Civic\")\n",
    "\n"
   ]
  },
  {
   "cell_type": "markdown",
   "metadata": {},
   "source": [
    "Great! Now, onto the more fun stuff. Let's create a few different instance methods that will help us answer questions like how many drivers do we currently have in our fleet? What percent of drivers drive a Toyota and of that, how many drive a Camry? Or more generally, which car make/models do our drivers drive?\n",
    "\n",
    "To do this, our class will need to have the two class varibles we mentioned earlier, `_all` and `_count`, as well as the class methods listed below:"
   ]
  },
  {
   "cell_type": "markdown",
   "metadata": {},
   "source": [
    "> **Note:** although it is not necessary, feel free to use more class variables such as `_car_makes` or `_car_models`. Also, consider when is the best time to increment our `_count` class variable or add a new instance object to our `_all` list? It should be the last two lines in our `__init__` method after we have instantiated our instance object and instance variables.\n",
    "\n",
    "```python\n",
    "class Person:\n",
    "    \n",
    "    _all = []\n",
    "    _count = 0\n",
    "    \n",
    "    def __init__(self, cls, name, age):\n",
    "        self.name = name\n",
    "        self.age = age\n",
    "        # call class method to append `self` to _all\n",
    "        # call class method to increment _count by 1\n",
    "        \n",
    "```"
   ]
  },
  {
   "cell_type": "code",
   "execution_count": 202,
   "metadata": {},
   "outputs": [
    {
     "data": {
      "text/plain": [
       "7"
      ]
     },
     "execution_count": 202,
     "metadata": {},
     "output_type": "execute_result"
    }
   ],
   "source": [
    "Driver.fleet_size() # returns the number of drivers in the fleet\n",
    "# example: 7"
   ]
  },
  {
   "cell_type": "code",
   "execution_count": 203,
   "metadata": {},
   "outputs": [
    {
     "data": {
      "text/plain": [
       "['Helga Pataki',\n",
       " 'Arnold Shortman',\n",
       " 'Gerald Johanssen',\n",
       " \"Robert 'Big Bob' Pataki\",\n",
       " 'Grandpa Phil',\n",
       " 'Rhonda Wellington Lloyd',\n",
       " 'Phoebe Heyerdahl']"
      ]
     },
     "execution_count": 203,
     "metadata": {},
     "output_type": "execute_result"
    }
   ],
   "source": [
    "Driver.driver_names() # returns a list of driver names as strings\n",
    "# example: ['Helga Pataki', 'Arnold Shortman','Gerald Johanssen', \n",
    "# \"Robert 'Big Bob' Pataki\", 'Grandpa Phil', 'Rhonda Wellington Lloyd',\n",
    "# 'Phoebe Heyerdahl']"
   ]
  },
  {
   "cell_type": "code",
   "execution_count": 204,
   "metadata": {},
   "outputs": [
    {
     "data": {
      "text/plain": [
       "['Toyota', 'Toyota', 'Toyota', 'Honda', 'Jeep', 'Kia', 'Honda']"
      ]
     },
     "execution_count": 204,
     "metadata": {},
     "output_type": "execute_result"
    }
   ],
   "source": [
    "Driver.fleet_makes() # returns a list of car makes in the fleet\n",
    "# example: ['Toyota', 'Toyota', 'Toyota', 'Honda', 'Jeep', 'Kia', 'Honda']"
   ]
  },
  {
   "cell_type": "code",
   "execution_count": 205,
   "metadata": {},
   "outputs": [
    {
     "data": {
      "text/plain": [
       "['Camry', 'Highlander', 'Camry', 'Pilot', 'Grand Cherokee', 'Sonata', 'Civic']"
      ]
     },
     "execution_count": 205,
     "metadata": {},
     "output_type": "execute_result"
    }
   ],
   "source": [
    "Driver.fleet_models() # returns a list of car models in the fleet\n",
    "# example: ['Camry', 'Highlander', 'Camry', 'Pilot', 'Grand Cherokee', 'Sonata', 'Civic']"
   ]
  },
  {
   "cell_type": "code",
   "execution_count": 206,
   "metadata": {},
   "outputs": [
    {
     "data": {
      "text/plain": [
       "{'Toyota': 3, 'Honda': 2, 'Jeep': 1, 'Kia': 1}"
      ]
     },
     "execution_count": 206,
     "metadata": {},
     "output_type": "execute_result"
    }
   ],
   "source": [
    "Driver.fleet_makes_count() \n",
    "# returns a dictionary containing a histogram with the key of a car make \n",
    "# pointing to the number of cars of that make in the fleet\n",
    "# example: {'Honda': 2, 'Jeep': 1, 'Kia': 1, 'Toyota': 3}"
   ]
  },
  {
   "cell_type": "code",
   "execution_count": 207,
   "metadata": {},
   "outputs": [
    {
     "data": {
      "text/plain": [
       "{'Camry': 2,\n",
       " 'Highlander': 1,\n",
       " 'Pilot': 1,\n",
       " 'Grand Cherokee': 1,\n",
       " 'Sonata': 1,\n",
       " 'Civic': 1}"
      ]
     },
     "execution_count": 207,
     "metadata": {},
     "output_type": "execute_result"
    }
   ],
   "source": [
    "Driver.fleet_models_count() \n",
    "# returns a list of dictionaries as histograms with the key of a car model\n",
    "# pointing to the number of cars of that model in the fleet\n",
    "# example: {'Camry': 2, 'Civic': 1, 'Grand Cherokee': 1, 'Highlander': 1, 'Pilot': 1, 'Sonata': 1}"
   ]
  },
  {
   "cell_type": "code",
   "execution_count": 208,
   "metadata": {},
   "outputs": [
    {
     "data": {
      "text/plain": [
       "'42.857142857142854%'"
      ]
     },
     "execution_count": 208,
     "metadata": {},
     "output_type": "execute_result"
    }
   ],
   "source": [
    "Driver.percent_of_fleet(\"Toyota\") \n",
    "# returns the percentage of Toyotas in the fleet\n",
    "# example: 45.857%"
   ]
  },
  {
   "cell_type": "markdown",
   "metadata": {},
   "source": [
    "> **Hint:** for the last method, `percent_of_fleet`, you will need to return a string that represents the percentage  as a float with the percent sign at the end of the string. We can use the `float()` and `str()` functions to accomplish this as well as concating strings to add the `%` sign:"
   ]
  },
  {
   "cell_type": "code",
   "execution_count": null,
   "metadata": {},
   "outputs": [
    {
     "data": {
      "text/plain": [
       "'20.0%'"
      ]
     },
     "execution_count": 209,
     "metadata": {},
     "output_type": "execute_result"
    }
   ],
   "source": [
    "num = float((2/10)*100)\n",
    "num_string = str(num)\n",
    "percent = num_string + \"%\"\n",
    "percent"
   ]
  },
  {
   "cell_type": "markdown",
   "metadata": {},
   "source": [
    "## Summary\n",
    "In this lab we practiced using class methods and class variables to both store our class's instance objects and operate on them in order to provide answers to our questions about the fleet. We might have noticed that the Driver class is getting pretty inflated with these querying methods. Perhaps there is a way we can structure our code to make this a bit cleaner for us? Maybe we could have another class that has these query methods that we use in our other classes? Let's find out!"
   ]
  }
 ],
 "metadata": {
  "kernelspec": {
   "display_name": "Python 3",
   "language": "python",
   "name": "python3"
  },
  "language_info": {
   "codemirror_mode": {
    "name": "ipython",
    "version": 3
   },
   "file_extension": ".py",
   "mimetype": "text/x-python",
   "name": "python",
   "nbconvert_exporter": "python",
   "pygments_lexer": "ipython3",
   "version": "3.6.6"
  }
 },
 "nbformat": 4,
 "nbformat_minor": 2
}
